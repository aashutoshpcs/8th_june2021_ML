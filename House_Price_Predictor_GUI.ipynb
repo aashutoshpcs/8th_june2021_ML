{
 "cells": [
  {
   "cell_type": "code",
   "execution_count": 66,
   "id": "a41ff2b3-5cd1-4731-bfb0-bc598300c0df",
   "metadata": {},
   "outputs": [],
   "source": [
    "import pandas as pd"
   ]
  },
  {
   "cell_type": "code",
   "execution_count": 67,
   "id": "63fcca44-4adb-4b4a-817a-85a8e1f4ed52",
   "metadata": {},
   "outputs": [],
   "source": [
    "import tkinter as tk"
   ]
  },
  {
   "cell_type": "code",
   "execution_count": 68,
   "id": "c8efd002-81dc-446a-b0d4-08b1fe28e0f4",
   "metadata": {},
   "outputs": [],
   "source": [
    "data = pd.read_pickle('house_price_predictor.pkl')"
   ]
  },
  {
   "cell_type": "code",
   "execution_count": 69,
   "id": "f05ce06f-5b5b-43b7-a97c-b09bb3caf854",
   "metadata": {},
   "outputs": [
    {
     "name": "stdout",
     "output_type": "stream",
     "text": [
      "LinearRegression()\n"
     ]
    }
   ],
   "source": [
    "print(data)"
   ]
  },
  {
   "cell_type": "code",
   "execution_count": 97,
   "id": "549e575b-1187-40b4-bf88-efbd9a30e48a",
   "metadata": {},
   "outputs": [],
   "source": [
    "app = tk.Tk()\n",
    "app.geometry('500x600')\n",
    "app.configure(bg='gold')\n",
    "app.title('HOUSE PRICE PREDICTOR')\n",
    "income =tk.Variable(app)\n",
    "house_age =tk.Variable(app)\n",
    "rooms=tk.Variable(app)\n",
    "area_population=tk.Variable(app)\n",
    "\n",
    "predicted_price=tk.Variable(app)\n",
    "predicted_price.set('')\n",
    "\n",
    "def houseprice():\n",
    "    inc=eval(income.get())\n",
    "    age=eval(house_age.get())\n",
    "    room=eval(rooms.get())\n",
    "    pop=eval(area_population.get())         \n",
    "    query=pd.DataFrame({'Income':[inc],'House_Age':[age],'No.Of Room':[room],'Population':[pop]})\n",
    "    predicted_price.set(round(m.predict(query)[0],2))\n",
    "    \n",
    "label=tk.Variable(app)\n",
    "label.set('PREDICT YOUR HOUSE PRICE ')\n",
    "tk.Label(app,textvariable=label,font=('overstrike',22),bg='black',fg='white').pack()\n",
    "\n",
    "\n",
    "\n",
    "label1=tk.Label(app,text='ENTER INCOME',bg='grey',font='bold').place(x=8,y=65) \n",
    "entry_income=tk.Entry(app,textvariable = income,width=25).place(x=290,y=65,height=28)\n",
    "\n",
    "\n",
    "label2=tk.Label(app,text='ENTER AGE OF HOUSE',bg='grey',font='bold').place(x=8,y=115)\n",
    "entry_age=tk.Entry(app,textvariable=house_age,width=25).place(x=290,y=115,height=28)\n",
    "\n",
    "\n",
    "label3=tk.Label(app,text='ENTER NO. OF ROOMS',bg='grey',font='bold').place(x=5,y=165)\n",
    "entry_room=tk.Entry(app,textvariable=rooms,width=25).place(x=290,y=165,height=28)\n",
    "\n",
    "\n",
    "label4=tk.Label(app,text='ENTER AREA POPULATION',bg='grey',font='bold').place(x=5,y=215)\n",
    "entry_pop=tk.Entry(app,textvariable=area_population,width=25).place(x=290,y=215,height=28)\n",
    "\n",
    "button=tk.Button(app,text='CALCULATE PRICE OF HOUSE ',font='bold',command=houseprice,bg='Green',fg='white').place(x=105,y=270,height=45)\n",
    "label5=tk.Label(app,textvariable=predicted_price,text='Price_of_house',width=25).place(x=140,y=350,height=40)\n",
    "\n",
    "\n",
    "    \n",
    "app.mainloop()"
   ]
  },
  {
   "cell_type": "code",
   "execution_count": null,
   "id": "0f7c3485-6a18-458e-8850-17de239a7fea",
   "metadata": {},
   "outputs": [],
   "source": []
  }
 ],
 "metadata": {
  "kernelspec": {
   "display_name": "Python 3",
   "language": "python",
   "name": "python3"
  },
  "language_info": {
   "codemirror_mode": {
    "name": "ipython",
    "version": 3
   },
   "file_extension": ".py",
   "mimetype": "text/x-python",
   "name": "python",
   "nbconvert_exporter": "python",
   "pygments_lexer": "ipython3",
   "version": "3.8.8"
  }
 },
 "nbformat": 4,
 "nbformat_minor": 5
}
