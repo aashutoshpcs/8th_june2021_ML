{
 "cells": [
  {
   "cell_type": "code",
   "execution_count": 1,
   "id": "e146c027-cb27-419c-8099-f9573d7c4a6e",
   "metadata": {},
   "outputs": [],
   "source": [
    "import tkinter as tk\n",
    "import pandas as pd"
   ]
  },
  {
   "cell_type": "code",
   "execution_count": 26,
   "id": "b57bdb08-c3cf-4ecf-ad1c-a6e8ef5bba40",
   "metadata": {
    "collapsed": true,
    "jupyter": {
     "outputs_hidden": true
    },
    "tags": []
   },
   "outputs": [
    {
     "name": "stderr",
     "output_type": "stream",
     "text": [
      "Exception in Tkinter callback\n",
      "Traceback (most recent call last):\n",
      "  File \"C:\\Users\\HP\\anaconda3\\lib\\tkinter\\__init__.py\", line 1892, in __call__\n",
      "    return self.func(*args)\n",
      "  File \"<ipython-input-26-74b0d9d7b4a4>\", line 22, in recommend\n",
      "    recom.drop(inp,axis = 0,inplace = True)\n",
      "  File \"C:\\Users\\HP\\anaconda3\\lib\\site-packages\\pandas\\core\\frame.py\", line 4308, in drop\n",
      "    return super().drop(\n",
      "  File \"C:\\Users\\HP\\anaconda3\\lib\\site-packages\\pandas\\core\\generic.py\", line 4153, in drop\n",
      "    obj = obj._drop_axis(labels, axis, level=level, errors=errors)\n",
      "  File \"C:\\Users\\HP\\anaconda3\\lib\\site-packages\\pandas\\core\\generic.py\", line 4188, in _drop_axis\n",
      "    new_axis = axis.drop(labels, errors=errors)\n",
      "  File \"C:\\Users\\HP\\anaconda3\\lib\\site-packages\\pandas\\core\\indexes\\base.py\", line 5591, in drop\n",
      "    raise KeyError(f\"{labels[mask]} not found in axis\")\n",
      "KeyError: \"['Speechless (1994)'] not found in axis\"\n"
     ]
    }
   ],
   "source": [
    "df = pd.read_csv('u.data',sep = '\\t',names = ['user_id','item_id','rating','ts'])\n",
    "data = pd.merge(df.drop('ts',axis = 1),movies[['item_id','title']],on = 'item_id')\n",
    "rate_count = data.groupby('title')['rating'].count()\n",
    "df_pivot = data.pivot_table(index ='user_id',columns='title',values='rating')\n",
    "\n",
    "\n",
    "app = tk.Tk()\n",
    "app.geometry('450x450')\n",
    "app.title('MOVIE RECOMMENDATION')\n",
    "\n",
    "listbox = tk.Listbox(app, height = 22, width=28, bg = 'black',fg = 'orange')\n",
    "listbox.place(x=10,y=25)\n",
    "\n",
    "for i,t in enumerate(data['title'].unique()):\n",
    "    listbox.insert(i+1, t)\n",
    "\n",
    "def recommend():\n",
    "    inp = listbox.get(listbox.curselection())\n",
    "    sim_df =pd.DataFrame(df_pivot.corrwith(df_pivot[inp]),columns=['corr'])\n",
    "    sim_df['Count'] = rate_count\n",
    "    recom = sim_df[(sim_df['Count'])>100].sort_values('corr',ascending = False)\n",
    "    recom.drop(inp,axis = 0,inplace = True)\n",
    "    recommended = recom.index[:3]\n",
    "    result1.set(recommended[0])\n",
    "    result2.set(recommended[1])\n",
    "    result3.set(recommended[2])\n",
    "   \n",
    "\n",
    "\n",
    "tk.Button(app,text='SHOW RECOMMEND',command=recommend,bg='green',fg='red').place(x=250,y=30)\n",
    "\n",
    "result1 = tk.Variable(app)\n",
    "result1.set('')\n",
    "tk.Label(app,textvariable=result1).place(x=260,y=115)\n",
    "\n",
    "result2 = tk.Variable(app)\n",
    "result2.set('')\n",
    "tk.Label(app,textvariable=result2).place(x=260,y=145)\n",
    "\n",
    "result3 = tk.Variable(app)\n",
    "result3.set('')\n",
    "tk.Label(app,textvariable=result3).place(x=260,y=175)\n",
    "\n",
    "\n",
    "app.mainloop()"
   ]
  },
  {
   "cell_type": "code",
   "execution_count": null,
   "id": "1e1fbe07-9319-4e9f-83bb-67f95ab2c8c4",
   "metadata": {},
   "outputs": [],
   "source": []
  },
  {
   "cell_type": "code",
   "execution_count": null,
   "id": "ce153296-075e-452b-88eb-a5d576a18209",
   "metadata": {},
   "outputs": [],
   "source": []
  }
 ],
 "metadata": {
  "kernelspec": {
   "display_name": "Python 3",
   "language": "python",
   "name": "python3"
  },
  "language_info": {
   "codemirror_mode": {
    "name": "ipython",
    "version": 3
   },
   "file_extension": ".py",
   "mimetype": "text/x-python",
   "name": "python",
   "nbconvert_exporter": "python",
   "pygments_lexer": "ipython3",
   "version": "3.8.8"
  }
 },
 "nbformat": 4,
 "nbformat_minor": 5
}
