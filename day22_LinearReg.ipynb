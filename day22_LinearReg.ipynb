{
 "cells": [
  {
   "cell_type": "code",
   "execution_count": 1,
   "id": "1ab98b1e-48e3-4125-b647-f9891d68c934",
   "metadata": {},
   "outputs": [],
   "source": [
    "import pandas as pd"
   ]
  },
  {
   "cell_type": "code",
   "execution_count": 2,
   "id": "d604b3f9-b1f4-40b3-8851-5b403f11f749",
   "metadata": {},
   "outputs": [],
   "source": [
    "m = pd.read_pickle('house_price_predictor.pkl')"
   ]
  },
  {
   "cell_type": "code",
   "execution_count": 3,
   "id": "db7b4a0a-7830-46a1-be11-97e835248e99",
   "metadata": {},
   "outputs": [
    {
     "data": {
      "text/plain": [
       "LinearRegression()"
      ]
     },
     "execution_count": 3,
     "metadata": {},
     "output_type": "execute_result"
    }
   ],
   "source": [
    "m"
   ]
  },
  {
   "cell_type": "code",
   "execution_count": 4,
   "id": "ed9b6e40-1a60-4b05-aef4-02671de04753",
   "metadata": {},
   "outputs": [
    {
     "name": "stdin",
     "output_type": "stream",
     "text": [
      "Enter the income: 20000\n",
      "Enter the house age: 23\n",
      "Enter the number of rooms: 5\n",
      "Enter the population: 40000\n"
     ]
    }
   ],
   "source": [
    "inc = eval(input('Enter the income:'))\n",
    "age = eval(input('Enter the house age:'))\n",
    "room = eval(input('Enter the number of rooms:'))\n",
    "pop = eval(input('Enter the population:'))\n",
    "\n",
    "query = pd.DataFrame({'income':[inc],'house_age':[age], 'rooms':[room],'population':[pop]})"
   ]
  },
  {
   "cell_type": "code",
   "execution_count": 5,
   "id": "085826e2-290a-4160-8ec5-621c3242379d",
   "metadata": {},
   "outputs": [
    {
     "data": {
      "text/html": [
       "<div>\n",
       "<style scoped>\n",
       "    .dataframe tbody tr th:only-of-type {\n",
       "        vertical-align: middle;\n",
       "    }\n",
       "\n",
       "    .dataframe tbody tr th {\n",
       "        vertical-align: top;\n",
       "    }\n",
       "\n",
       "    .dataframe thead th {\n",
       "        text-align: right;\n",
       "    }\n",
       "</style>\n",
       "<table border=\"1\" class=\"dataframe\">\n",
       "  <thead>\n",
       "    <tr style=\"text-align: right;\">\n",
       "      <th></th>\n",
       "      <th>income</th>\n",
       "      <th>house_age</th>\n",
       "      <th>rooms</th>\n",
       "      <th>population</th>\n",
       "    </tr>\n",
       "  </thead>\n",
       "  <tbody>\n",
       "    <tr>\n",
       "      <th>0</th>\n",
       "      <td>20000</td>\n",
       "      <td>23</td>\n",
       "      <td>5</td>\n",
       "      <td>40000</td>\n",
       "    </tr>\n",
       "  </tbody>\n",
       "</table>\n",
       "</div>"
      ],
      "text/plain": [
       "   income  house_age  rooms  population\n",
       "0   20000         23      5       40000"
      ]
     },
     "execution_count": 5,
     "metadata": {},
     "output_type": "execute_result"
    }
   ],
   "source": [
    "query"
   ]
  },
  {
   "cell_type": "code",
   "execution_count": 6,
   "id": "5d647d12-5186-47f1-adf7-423dc8f536b1",
   "metadata": {},
   "outputs": [
    {
     "data": {
      "text/plain": [
       "2804506.1"
      ]
     },
     "execution_count": 6,
     "metadata": {},
     "output_type": "execute_result"
    }
   ],
   "source": [
    "round(m.predict(query)[0],2)"
   ]
  },
  {
   "cell_type": "code",
   "execution_count": null,
   "id": "fcd39bbf-41dd-4237-8abd-97cdf9c1b3d7",
   "metadata": {},
   "outputs": [],
   "source": []
  }
 ],
 "metadata": {
  "kernelspec": {
   "display_name": "Python 3",
   "language": "python",
   "name": "python3"
  },
  "language_info": {
   "codemirror_mode": {
    "name": "ipython",
    "version": 3
   },
   "file_extension": ".py",
   "mimetype": "text/x-python",
   "name": "python",
   "nbconvert_exporter": "python",
   "pygments_lexer": "ipython3",
   "version": "3.8.8"
  }
 },
 "nbformat": 4,
 "nbformat_minor": 5
}
